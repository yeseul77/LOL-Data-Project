{
 "cells": [
  {
   "cell_type": "code",
   "execution_count": 215,
   "id": "89d530a1",
   "metadata": {},
   "outputs": [],
   "source": [
    "import pandas as pd\n",
    "from my_utils import *\n",
    "import matplotlib.pyplot as plt\n",
    "from matplotlib import font_manager, rc\n",
    "import seaborn as sns"
   ]
  },
  {
   "cell_type": "code",
   "execution_count": 213,
   "id": "f211e395",
   "metadata": {},
   "outputs": [],
   "source": [
    "font_path = \"C:/Windows/Fonts/gulim.ttc\"\n",
    "font = font_manager.FontProperties(fname=font_path).get_name()\n",
    "rc('font', family=font) # 윈도우"
   ]
  },
  {
   "cell_type": "code",
   "execution_count": 164,
   "id": "92373df1",
   "metadata": {},
   "outputs": [],
   "source": [
    "df = pd.read_csv('lol_datas.csv')"
   ]
  },
  {
   "cell_type": "code",
   "execution_count": 165,
   "id": "35556927",
   "metadata": {},
   "outputs": [
    {
     "data": {
      "text/plain": [
       "Index(['gameId', 'gameDuration', 'gameVersion', 'summonerName',\n",
       "       'summonerLevel', 'participantId', 'championName', 'champExperience',\n",
       "       'teamPosition', 'teamId', 'win', 'kills', 'deaths', 'assists',\n",
       "       'totalDamageDealtToChampions', 'totalDamageTaken', 'g_5', 'g_6', 'g_7',\n",
       "       'g_8', 'g_9', 'g_10', 'g_11', 'g_12', 'g_13', 'g_14', 'g_15', 'g_16',\n",
       "       'g_17', 'g_18', 'g_19', 'g_20', 'g_21', 'g_22', 'g_23', 'g_24', 'g_25',\n",
       "       'item0', 'item1', 'item2', 'item3', 'item4', 'item5', 'item6',\n",
       "       'summoner1Id', 'summoner2Id', 'turretKills', 'firstTowerKill',\n",
       "       'totalMinionsKilled', 'pentaKills', 'championId', 'pickTurn'],\n",
       "      dtype='object')"
      ]
     },
     "execution_count": 165,
     "metadata": {},
     "output_type": "execute_result"
    }
   ],
   "source": [
    "df.columns"
   ]
  },
  {
   "cell_type": "code",
   "execution_count": 166,
   "id": "febed5bd",
   "metadata": {},
   "outputs": [
    {
     "data": {
      "text/html": [
       "<div>\n",
       "<style scoped>\n",
       "    .dataframe tbody tr th:only-of-type {\n",
       "        vertical-align: middle;\n",
       "    }\n",
       "\n",
       "    .dataframe tbody tr th {\n",
       "        vertical-align: top;\n",
       "    }\n",
       "\n",
       "    .dataframe thead th {\n",
       "        text-align: right;\n",
       "    }\n",
       "</style>\n",
       "<table border=\"1\" class=\"dataframe\">\n",
       "  <thead>\n",
       "    <tr style=\"text-align: right;\">\n",
       "      <th></th>\n",
       "      <th>gameId</th>\n",
       "      <th>gameDuration</th>\n",
       "      <th>gameVersion</th>\n",
       "      <th>summonerName</th>\n",
       "      <th>summonerLevel</th>\n",
       "      <th>participantId</th>\n",
       "      <th>championName</th>\n",
       "      <th>champExperience</th>\n",
       "      <th>teamPosition</th>\n",
       "      <th>teamId</th>\n",
       "      <th>...</th>\n",
       "      <th>item5</th>\n",
       "      <th>item6</th>\n",
       "      <th>summoner1Id</th>\n",
       "      <th>summoner2Id</th>\n",
       "      <th>turretKills</th>\n",
       "      <th>firstTowerKill</th>\n",
       "      <th>totalMinionsKilled</th>\n",
       "      <th>pentaKills</th>\n",
       "      <th>championId</th>\n",
       "      <th>pickTurn</th>\n",
       "    </tr>\n",
       "  </thead>\n",
       "  <tbody>\n",
       "    <tr>\n",
       "      <th>0</th>\n",
       "      <td>KR_6637806460</td>\n",
       "      <td>954</td>\n",
       "      <td>13.15.524.1760</td>\n",
       "      <td>Chu</td>\n",
       "      <td>72</td>\n",
       "      <td>1</td>\n",
       "      <td>Renekton</td>\n",
       "      <td>6379</td>\n",
       "      <td>TOP</td>\n",
       "      <td>100</td>\n",
       "      <td>...</td>\n",
       "      <td>1083</td>\n",
       "      <td>3340</td>\n",
       "      <td>4</td>\n",
       "      <td>12</td>\n",
       "      <td>1</td>\n",
       "      <td>False</td>\n",
       "      <td>108</td>\n",
       "      <td>0</td>\n",
       "      <td>7</td>\n",
       "      <td>1</td>\n",
       "    </tr>\n",
       "    <tr>\n",
       "      <th>1</th>\n",
       "      <td>KR_6637806460</td>\n",
       "      <td>954</td>\n",
       "      <td>13.15.524.1760</td>\n",
       "      <td>JDG8</td>\n",
       "      <td>474</td>\n",
       "      <td>2</td>\n",
       "      <td>Karthus</td>\n",
       "      <td>5028</td>\n",
       "      <td>JUNGLE</td>\n",
       "      <td>100</td>\n",
       "      <td>...</td>\n",
       "      <td>0</td>\n",
       "      <td>3340</td>\n",
       "      <td>11</td>\n",
       "      <td>3</td>\n",
       "      <td>0</td>\n",
       "      <td>False</td>\n",
       "      <td>3</td>\n",
       "      <td>0</td>\n",
       "      <td>53</td>\n",
       "      <td>2</td>\n",
       "    </tr>\n",
       "    <tr>\n",
       "      <th>2</th>\n",
       "      <td>KR_6637806460</td>\n",
       "      <td>954</td>\n",
       "      <td>13.15.524.1760</td>\n",
       "      <td>gkstjfgml</td>\n",
       "      <td>397</td>\n",
       "      <td>3</td>\n",
       "      <td>Zed</td>\n",
       "      <td>7394</td>\n",
       "      <td>MIDDLE</td>\n",
       "      <td>100</td>\n",
       "      <td>...</td>\n",
       "      <td>0</td>\n",
       "      <td>3364</td>\n",
       "      <td>14</td>\n",
       "      <td>4</td>\n",
       "      <td>0</td>\n",
       "      <td>False</td>\n",
       "      <td>115</td>\n",
       "      <td>0</td>\n",
       "      <td>24</td>\n",
       "      <td>3</td>\n",
       "    </tr>\n",
       "    <tr>\n",
       "      <th>3</th>\n",
       "      <td>KR_6637806460</td>\n",
       "      <td>954</td>\n",
       "      <td>13.15.524.1760</td>\n",
       "      <td>myself1</td>\n",
       "      <td>144</td>\n",
       "      <td>4</td>\n",
       "      <td>Ezreal</td>\n",
       "      <td>6331</td>\n",
       "      <td>BOTTOM</td>\n",
       "      <td>100</td>\n",
       "      <td>...</td>\n",
       "      <td>1036</td>\n",
       "      <td>3363</td>\n",
       "      <td>4</td>\n",
       "      <td>7</td>\n",
       "      <td>0</td>\n",
       "      <td>False</td>\n",
       "      <td>163</td>\n",
       "      <td>0</td>\n",
       "      <td>950</td>\n",
       "      <td>4</td>\n",
       "    </tr>\n",
       "    <tr>\n",
       "      <th>4</th>\n",
       "      <td>KR_6637806460</td>\n",
       "      <td>954</td>\n",
       "      <td>13.15.524.1760</td>\n",
       "      <td>Spir1TnT</td>\n",
       "      <td>253</td>\n",
       "      <td>5</td>\n",
       "      <td>Rakan</td>\n",
       "      <td>4265</td>\n",
       "      <td>UTILITY</td>\n",
       "      <td>100</td>\n",
       "      <td>...</td>\n",
       "      <td>3067</td>\n",
       "      <td>3364</td>\n",
       "      <td>14</td>\n",
       "      <td>4</td>\n",
       "      <td>0</td>\n",
       "      <td>False</td>\n",
       "      <td>28</td>\n",
       "      <td>0</td>\n",
       "      <td>145</td>\n",
       "      <td>5</td>\n",
       "    </tr>\n",
       "    <tr>\n",
       "      <th>...</th>\n",
       "      <td>...</td>\n",
       "      <td>...</td>\n",
       "      <td>...</td>\n",
       "      <td>...</td>\n",
       "      <td>...</td>\n",
       "      <td>...</td>\n",
       "      <td>...</td>\n",
       "      <td>...</td>\n",
       "      <td>...</td>\n",
       "      <td>...</td>\n",
       "      <td>...</td>\n",
       "      <td>...</td>\n",
       "      <td>...</td>\n",
       "      <td>...</td>\n",
       "      <td>...</td>\n",
       "      <td>...</td>\n",
       "      <td>...</td>\n",
       "      <td>...</td>\n",
       "      <td>...</td>\n",
       "      <td>...</td>\n",
       "      <td>...</td>\n",
       "    </tr>\n",
       "    <tr>\n",
       "      <th>11305</th>\n",
       "      <td>KR_6883323293</td>\n",
       "      <td>1630</td>\n",
       "      <td>13.24.547.9214</td>\n",
       "      <td>Kanaveee</td>\n",
       "      <td>854</td>\n",
       "      <td>6</td>\n",
       "      <td>Gragas</td>\n",
       "      <td>12341</td>\n",
       "      <td>TOP</td>\n",
       "      <td>200</td>\n",
       "      <td>...</td>\n",
       "      <td>3158</td>\n",
       "      <td>3364</td>\n",
       "      <td>4</td>\n",
       "      <td>12</td>\n",
       "      <td>0</td>\n",
       "      <td>False</td>\n",
       "      <td>158</td>\n",
       "      <td>0</td>\n",
       "      <td>497</td>\n",
       "      <td>6</td>\n",
       "    </tr>\n",
       "    <tr>\n",
       "      <th>11306</th>\n",
       "      <td>KR_6883323293</td>\n",
       "      <td>1630</td>\n",
       "      <td>13.24.547.9214</td>\n",
       "      <td>태나시티</td>\n",
       "      <td>100</td>\n",
       "      <td>7</td>\n",
       "      <td>LeeSin</td>\n",
       "      <td>11635</td>\n",
       "      <td>JUNGLE</td>\n",
       "      <td>200</td>\n",
       "      <td>...</td>\n",
       "      <td>0</td>\n",
       "      <td>3340</td>\n",
       "      <td>4</td>\n",
       "      <td>11</td>\n",
       "      <td>0</td>\n",
       "      <td>False</td>\n",
       "      <td>22</td>\n",
       "      <td>0</td>\n",
       "      <td>24</td>\n",
       "      <td>7</td>\n",
       "    </tr>\n",
       "    <tr>\n",
       "      <th>11307</th>\n",
       "      <td>KR_6883323293</td>\n",
       "      <td>1630</td>\n",
       "      <td>13.24.547.9214</td>\n",
       "      <td>재선이</td>\n",
       "      <td>72</td>\n",
       "      <td>8</td>\n",
       "      <td>Kled</td>\n",
       "      <td>13556</td>\n",
       "      <td>MIDDLE</td>\n",
       "      <td>200</td>\n",
       "      <td>...</td>\n",
       "      <td>3071</td>\n",
       "      <td>3364</td>\n",
       "      <td>4</td>\n",
       "      <td>14</td>\n",
       "      <td>2</td>\n",
       "      <td>False</td>\n",
       "      <td>148</td>\n",
       "      <td>0</td>\n",
       "      <td>104</td>\n",
       "      <td>8</td>\n",
       "    </tr>\n",
       "    <tr>\n",
       "      <th>11308</th>\n",
       "      <td>KR_6883323293</td>\n",
       "      <td>1630</td>\n",
       "      <td>13.24.547.9214</td>\n",
       "      <td>김치나라</td>\n",
       "      <td>325</td>\n",
       "      <td>9</td>\n",
       "      <td>Kalista</td>\n",
       "      <td>12847</td>\n",
       "      <td>BOTTOM</td>\n",
       "      <td>200</td>\n",
       "      <td>...</td>\n",
       "      <td>3153</td>\n",
       "      <td>3363</td>\n",
       "      <td>4</td>\n",
       "      <td>7</td>\n",
       "      <td>3</td>\n",
       "      <td>True</td>\n",
       "      <td>219</td>\n",
       "      <td>0</td>\n",
       "      <td>7</td>\n",
       "      <td>9</td>\n",
       "    </tr>\n",
       "    <tr>\n",
       "      <th>11309</th>\n",
       "      <td>KR_6883323293</td>\n",
       "      <td>1630</td>\n",
       "      <td>13.24.547.9214</td>\n",
       "      <td>조 C</td>\n",
       "      <td>340</td>\n",
       "      <td>10</td>\n",
       "      <td>Ashe</td>\n",
       "      <td>10332</td>\n",
       "      <td>UTILITY</td>\n",
       "      <td>200</td>\n",
       "      <td>...</td>\n",
       "      <td>3009</td>\n",
       "      <td>3364</td>\n",
       "      <td>6</td>\n",
       "      <td>4</td>\n",
       "      <td>0</td>\n",
       "      <td>False</td>\n",
       "      <td>33</td>\n",
       "      <td>0</td>\n",
       "      <td>56</td>\n",
       "      <td>10</td>\n",
       "    </tr>\n",
       "  </tbody>\n",
       "</table>\n",
       "<p>11310 rows × 52 columns</p>\n",
       "</div>"
      ],
      "text/plain": [
       "              gameId  gameDuration     gameVersion summonerName  \\\n",
       "0      KR_6637806460           954  13.15.524.1760          Chu   \n",
       "1      KR_6637806460           954  13.15.524.1760         JDG8   \n",
       "2      KR_6637806460           954  13.15.524.1760    gkstjfgml   \n",
       "3      KR_6637806460           954  13.15.524.1760      myself1   \n",
       "4      KR_6637806460           954  13.15.524.1760     Spir1TnT   \n",
       "...              ...           ...             ...          ...   \n",
       "11305  KR_6883323293          1630  13.24.547.9214     Kanaveee   \n",
       "11306  KR_6883323293          1630  13.24.547.9214         태나시티   \n",
       "11307  KR_6883323293          1630  13.24.547.9214          재선이   \n",
       "11308  KR_6883323293          1630  13.24.547.9214         김치나라   \n",
       "11309  KR_6883323293          1630  13.24.547.9214          조 C   \n",
       "\n",
       "       summonerLevel  participantId championName  champExperience  \\\n",
       "0                 72              1     Renekton             6379   \n",
       "1                474              2      Karthus             5028   \n",
       "2                397              3          Zed             7394   \n",
       "3                144              4       Ezreal             6331   \n",
       "4                253              5        Rakan             4265   \n",
       "...              ...            ...          ...              ...   \n",
       "11305            854              6       Gragas            12341   \n",
       "11306            100              7       LeeSin            11635   \n",
       "11307             72              8         Kled            13556   \n",
       "11308            325              9      Kalista            12847   \n",
       "11309            340             10         Ashe            10332   \n",
       "\n",
       "      teamPosition  teamId  ...  item5  item6  summoner1Id  summoner2Id  \\\n",
       "0              TOP     100  ...   1083   3340            4           12   \n",
       "1           JUNGLE     100  ...      0   3340           11            3   \n",
       "2           MIDDLE     100  ...      0   3364           14            4   \n",
       "3           BOTTOM     100  ...   1036   3363            4            7   \n",
       "4          UTILITY     100  ...   3067   3364           14            4   \n",
       "...            ...     ...  ...    ...    ...          ...          ...   \n",
       "11305          TOP     200  ...   3158   3364            4           12   \n",
       "11306       JUNGLE     200  ...      0   3340            4           11   \n",
       "11307       MIDDLE     200  ...   3071   3364            4           14   \n",
       "11308       BOTTOM     200  ...   3153   3363            4            7   \n",
       "11309      UTILITY     200  ...   3009   3364            6            4   \n",
       "\n",
       "       turretKills  firstTowerKill  totalMinionsKilled  pentaKills  \\\n",
       "0                1           False                 108           0   \n",
       "1                0           False                   3           0   \n",
       "2                0           False                 115           0   \n",
       "3                0           False                 163           0   \n",
       "4                0           False                  28           0   \n",
       "...            ...             ...                 ...         ...   \n",
       "11305            0           False                 158           0   \n",
       "11306            0           False                  22           0   \n",
       "11307            2           False                 148           0   \n",
       "11308            3            True                 219           0   \n",
       "11309            0           False                  33           0   \n",
       "\n",
       "       championId  pickTurn  \n",
       "0               7         1  \n",
       "1              53         2  \n",
       "2              24         3  \n",
       "3             950         4  \n",
       "4             145         5  \n",
       "...           ...       ...  \n",
       "11305         497         6  \n",
       "11306          24         7  \n",
       "11307         104         8  \n",
       "11308           7         9  \n",
       "11309          56        10  \n",
       "\n",
       "[11310 rows x 52 columns]"
      ]
     },
     "execution_count": 166,
     "metadata": {},
     "output_type": "execute_result"
    }
   ],
   "source": [
    "df"
   ]
  },
  {
   "cell_type": "code",
   "execution_count": 167,
   "id": "8c410506",
   "metadata": {},
   "outputs": [],
   "source": [
    "tmp = df[['teamPosition', 'item0', 'item1', 'item2', 'item3', 'item4', 'item5', 'item6']]"
   ]
  },
  {
   "cell_type": "code",
   "execution_count": 168,
   "id": "3959a2d8",
   "metadata": {},
   "outputs": [],
   "source": [
    "tmp_top = tmp[tmp['teamPosition'] == \"TOP\"]"
   ]
  },
  {
   "cell_type": "code",
   "execution_count": 182,
   "id": "5899a8bc",
   "metadata": {},
   "outputs": [],
   "source": [
    "tmp_top0 = tmp_top[['item0']]"
   ]
  },
  {
   "cell_type": "code",
   "execution_count": 183,
   "id": "3756fe03",
   "metadata": {},
   "outputs": [],
   "source": [
    "tmp_top1 = tmp_top[['item1']].rename(columns={'item1': 'item0'})"
   ]
  },
  {
   "cell_type": "code",
   "execution_count": 184,
   "id": "d81ce74d",
   "metadata": {},
   "outputs": [],
   "source": [
    "tmp_top2 = tmp_top[['item2']].rename(columns={'item2': 'item0'})"
   ]
  },
  {
   "cell_type": "code",
   "execution_count": 185,
   "id": "47202ed9",
   "metadata": {},
   "outputs": [],
   "source": [
    "tmp_top3 = tmp_top[['item3']].rename(columns={'item3': 'item0'})"
   ]
  },
  {
   "cell_type": "code",
   "execution_count": 186,
   "id": "2f994db1",
   "metadata": {},
   "outputs": [],
   "source": [
    "tmp_top4 = tmp_top[['item4']].rename(columns={'item4': 'item0'})"
   ]
  },
  {
   "cell_type": "code",
   "execution_count": 187,
   "id": "de390154",
   "metadata": {},
   "outputs": [],
   "source": [
    "tmp_top5 = tmp_top[['item5']].rename(columns={'item5': 'item0'})"
   ]
  },
  {
   "cell_type": "code",
   "execution_count": 192,
   "id": "d99e626b",
   "metadata": {},
   "outputs": [],
   "source": [
    "tmp_top_item = pd.concat([tmp_top0, tmp_top1, tmp_top2, tmp_top3, tmp_top4 ,tmp_top5])"
   ]
  },
  {
   "cell_type": "code",
   "execution_count": 238,
   "id": "97cf8112",
   "metadata": {},
   "outputs": [],
   "source": [
    "df_top_item = pd.DataFrame(tmp_top_item.value_counts().sort_values(ascending=False))"
   ]
  },
  {
   "cell_type": "code",
   "execution_count": 159,
   "id": "aa3ff16e",
   "metadata": {},
   "outputs": [],
   "source": [
    "item_tmp_end = pd.read_csv('item_tmp_end.csv')"
   ]
  },
  {
   "cell_type": "code",
   "execution_count": 240,
   "id": "0257f62f",
   "metadata": {},
   "outputs": [],
   "source": [
    "item_top_merge = pd.merge(df_top_item,item_tmp_end, on='item0')"
   ]
  },
  {
   "cell_type": "code",
   "execution_count": 241,
   "id": "a2e2ca15",
   "metadata": {},
   "outputs": [],
   "source": [
    "total_top = item_top_merge.head(3)"
   ]
  },
  {
   "cell_type": "code",
   "execution_count": 242,
   "id": "09b3450c",
   "metadata": {},
   "outputs": [],
   "source": [
    "total_top = total_top[['name', 'count']]"
   ]
  },
  {
   "cell_type": "code",
   "execution_count": 243,
   "id": "c5a7c0e7",
   "metadata": {
    "scrolled": true
   },
   "outputs": [
    {
     "data": {
      "text/html": [
       "<div>\n",
       "<style scoped>\n",
       "    .dataframe tbody tr th:only-of-type {\n",
       "        vertical-align: middle;\n",
       "    }\n",
       "\n",
       "    .dataframe tbody tr th {\n",
       "        vertical-align: top;\n",
       "    }\n",
       "\n",
       "    .dataframe thead th {\n",
       "        text-align: right;\n",
       "    }\n",
       "</style>\n",
       "<table border=\"1\" class=\"dataframe\">\n",
       "  <thead>\n",
       "    <tr style=\"text-align: right;\">\n",
       "      <th></th>\n",
       "      <th>name</th>\n",
       "      <th>count</th>\n",
       "    </tr>\n",
       "  </thead>\n",
       "  <tbody>\n",
       "    <tr>\n",
       "      <th>0</th>\n",
       "      <td>신성한 파괴자</td>\n",
       "      <td>284</td>\n",
       "    </tr>\n",
       "    <tr>\n",
       "      <th>1</th>\n",
       "      <td>선체파괴자</td>\n",
       "      <td>253</td>\n",
       "    </tr>\n",
       "    <tr>\n",
       "      <th>2</th>\n",
       "      <td>얼어붙은 건틀릿</td>\n",
       "      <td>236</td>\n",
       "    </tr>\n",
       "  </tbody>\n",
       "</table>\n",
       "</div>"
      ],
      "text/plain": [
       "       name  count\n",
       "0   신성한 파괴자    284\n",
       "1     선체파괴자    253\n",
       "2  얼어붙은 건틀릿    236"
      ]
     },
     "execution_count": 243,
     "metadata": {},
     "output_type": "execute_result"
    }
   ],
   "source": [
    "total_top"
   ]
  },
  {
   "cell_type": "code",
   "execution_count": 244,
   "id": "55e8f559",
   "metadata": {},
   "outputs": [
    {
     "data": {
      "image/png": "[encoded data removed]",
      "text/plain": [
       "<Figure size 800x600 with 1 Axes>"
      ]
     },
     "metadata": {},
     "output_type": "display_data"
    }
   ],
   "source": [
    "plt.figure(figsize=(8, 6))\n",
    "plt.bar(total_top['name'], total_top['count'], color=('r','g','b'))\n",
    "plt.xlabel('')\n",
    "plt.ylabel('구매량')\n",
    "plt.title('탑라인 아이템 구매율')\n",
    "plt.grid()\n",
    "plt.show()"
   ]
  },
  {
   "cell_type": "code",
   "execution_count": 11,
   "id": "a7629b6f",
   "metadata": {},
   "outputs": [],
   "source": [
    "tmp_JUNGLE = tmp[tmp['teamPosition'] == \"JUNGLE\"]"
   ]
  },
  {
   "cell_type": "code",
   "execution_count": 12,
   "id": "ab4fc45c",
   "metadata": {},
   "outputs": [
    {
     "data": {
      "text/html": [
       "<div>\n",
       "<style scoped>\n",
       "    .dataframe tbody tr th:only-of-type {\n",
       "        vertical-align: middle;\n",
       "    }\n",
       "\n",
       "    .dataframe tbody tr th {\n",
       "        vertical-align: top;\n",
       "    }\n",
       "\n",
       "    .dataframe thead th {\n",
       "        text-align: right;\n",
       "    }\n",
       "</style>\n",
       "<table border=\"1\" class=\"dataframe\">\n",
       "  <thead>\n",
       "    <tr style=\"text-align: right;\">\n",
       "      <th></th>\n",
       "      <th>teamPosition</th>\n",
       "      <th>item0</th>\n",
       "      <th>item1</th>\n",
       "      <th>item2</th>\n",
       "      <th>item3</th>\n",
       "      <th>item4</th>\n",
       "      <th>item5</th>\n",
       "      <th>item6</th>\n",
       "    </tr>\n",
       "  </thead>\n",
       "  <tbody>\n",
       "    <tr>\n",
       "      <th>1</th>\n",
       "      <td>JUNGLE</td>\n",
       "      <td>1101</td>\n",
       "      <td>1082</td>\n",
       "      <td>3108</td>\n",
       "      <td>3020</td>\n",
       "      <td>3802</td>\n",
       "      <td>0</td>\n",
       "      <td>3340</td>\n",
       "    </tr>\n",
       "    <tr>\n",
       "      <th>6</th>\n",
       "      <td>JUNGLE</td>\n",
       "      <td>2420</td>\n",
       "      <td>6655</td>\n",
       "      <td>1082</td>\n",
       "      <td>3020</td>\n",
       "      <td>1052</td>\n",
       "      <td>0</td>\n",
       "      <td>3513</td>\n",
       "    </tr>\n",
       "    <tr>\n",
       "      <th>11</th>\n",
       "      <td>JUNGLE</td>\n",
       "      <td>1102</td>\n",
       "      <td>4645</td>\n",
       "      <td>6655</td>\n",
       "      <td>1082</td>\n",
       "      <td>2422</td>\n",
       "      <td>1052</td>\n",
       "      <td>3513</td>\n",
       "    </tr>\n",
       "    <tr>\n",
       "      <th>16</th>\n",
       "      <td>JUNGLE</td>\n",
       "      <td>2055</td>\n",
       "      <td>1011</td>\n",
       "      <td>1103</td>\n",
       "      <td>3105</td>\n",
       "      <td>1001</td>\n",
       "      <td>1011</td>\n",
       "      <td>3364</td>\n",
       "    </tr>\n",
       "    <tr>\n",
       "      <th>21</th>\n",
       "      <td>JUNGLE</td>\n",
       "      <td>6692</td>\n",
       "      <td>3071</td>\n",
       "      <td>3814</td>\n",
       "      <td>1036</td>\n",
       "      <td>0</td>\n",
       "      <td>3111</td>\n",
       "      <td>3364</td>\n",
       "    </tr>\n",
       "    <tr>\n",
       "      <th>...</th>\n",
       "      <td>...</td>\n",
       "      <td>...</td>\n",
       "      <td>...</td>\n",
       "      <td>...</td>\n",
       "      <td>...</td>\n",
       "      <td>...</td>\n",
       "      <td>...</td>\n",
       "      <td>...</td>\n",
       "    </tr>\n",
       "    <tr>\n",
       "      <th>11286</th>\n",
       "      <td>JUNGLE</td>\n",
       "      <td>6631</td>\n",
       "      <td>3071</td>\n",
       "      <td>3047</td>\n",
       "      <td>1037</td>\n",
       "      <td>3133</td>\n",
       "      <td>1029</td>\n",
       "      <td>3364</td>\n",
       "    </tr>\n",
       "    <tr>\n",
       "      <th>11291</th>\n",
       "      <td>JUNGLE</td>\n",
       "      <td>3089</td>\n",
       "      <td>4645</td>\n",
       "      <td>3157</td>\n",
       "      <td>4636</td>\n",
       "      <td>3020</td>\n",
       "      <td>1026</td>\n",
       "      <td>3364</td>\n",
       "    </tr>\n",
       "    <tr>\n",
       "      <th>11296</th>\n",
       "      <td>JUNGLE</td>\n",
       "      <td>6632</td>\n",
       "      <td>1011</td>\n",
       "      <td>3076</td>\n",
       "      <td>0</td>\n",
       "      <td>3742</td>\n",
       "      <td>3047</td>\n",
       "      <td>3364</td>\n",
       "    </tr>\n",
       "    <tr>\n",
       "      <th>11301</th>\n",
       "      <td>JUNGLE</td>\n",
       "      <td>3071</td>\n",
       "      <td>6632</td>\n",
       "      <td>6333</td>\n",
       "      <td>0</td>\n",
       "      <td>1036</td>\n",
       "      <td>3047</td>\n",
       "      <td>3364</td>\n",
       "    </tr>\n",
       "    <tr>\n",
       "      <th>11306</th>\n",
       "      <td>JUNGLE</td>\n",
       "      <td>3047</td>\n",
       "      <td>6630</td>\n",
       "      <td>1037</td>\n",
       "      <td>3071</td>\n",
       "      <td>3044</td>\n",
       "      <td>0</td>\n",
       "      <td>3340</td>\n",
       "    </tr>\n",
       "  </tbody>\n",
       "</table>\n",
       "<p>2116 rows × 8 columns</p>\n",
       "</div>"
      ],
      "text/plain": [
       "      teamPosition  item0  item1  item2  item3  item4  item5  item6\n",
       "1           JUNGLE   1101   1082   3108   3020   3802      0   3340\n",
       "6           JUNGLE   2420   6655   1082   3020   1052      0   3513\n",
       "11          JUNGLE   1102   4645   6655   1082   2422   1052   3513\n",
       "16          JUNGLE   2055   1011   1103   3105   1001   1011   3364\n",
       "21          JUNGLE   6692   3071   3814   1036      0   3111   3364\n",
       "...            ...    ...    ...    ...    ...    ...    ...    ...\n",
       "11286       JUNGLE   6631   3071   3047   1037   3133   1029   3364\n",
       "11291       JUNGLE   3089   4645   3157   4636   3020   1026   3364\n",
       "11296       JUNGLE   6632   1011   3076      0   3742   3047   3364\n",
       "11301       JUNGLE   3071   6632   6333      0   1036   3047   3364\n",
       "11306       JUNGLE   3047   6630   1037   3071   3044      0   3340\n",
       "\n",
       "[2116 rows x 8 columns]"
      ]
     },
     "execution_count": 12,
     "metadata": {},
     "output_type": "execute_result"
    }
   ],
   "source": [
    "tmp_JUNGLE"
   ]
  },
  {
   "cell_type": "code",
   "execution_count": 13,
   "id": "e25ee6e9",
   "metadata": {},
   "outputs": [],
   "source": [
    "tmp_JUNGLE0 = tmp_JUNGLE[['item0']]"
   ]
  },
  {
   "cell_type": "code",
   "execution_count": 14,
   "id": "8c843b53",
   "metadata": {},
   "outputs": [],
   "source": [
    "tmp_JUNGLE1 = tmp_JUNGLE[['item1']].rename(columns={'item1': 'item0'})"
   ]
  },
  {
   "cell_type": "code",
   "execution_count": 15,
   "id": "2c4df112",
   "metadata": {},
   "outputs": [],
   "source": [
    "tmp_JUNGLE2 = tmp_JUNGLE[['item2']].rename(columns={'item2': 'item0'})"
   ]
  },
  {
   "cell_type": "code",
   "execution_count": 16,
   "id": "834e1fac",
   "metadata": {},
   "outputs": [],
   "source": [
    "tmp_JUNGLE3 = tmp_JUNGLE[['item3']].rename(columns={'item3': 'item0'})"
   ]
  },
  {
   "cell_type": "code",
   "execution_count": 17,
   "id": "508eb123",
   "metadata": {},
   "outputs": [],
   "source": [
    "tmp_JUNGLE4 = tmp_JUNGLE[['item4']].rename(columns={'item4': 'item0'})"
   ]
  },
  {
   "cell_type": "code",
   "execution_count": 19,
   "id": "0313c415",
   "metadata": {},
   "outputs": [],
   "source": [
    "tmp_JUNGLE5 = tmp_JUNGLE[['item5']].rename(columns={'item5': 'item0'})"
   ]
  },
  {
   "cell_type": "code",
   "execution_count": 24,
   "id": "835cbddf",
   "metadata": {},
   "outputs": [],
   "source": [
    "tmp_JUNGLE_item = pd.concat([tmp_JUNGLE0, tmp_JUNGLE1, tmp_JUNGLE2, tmp_JUNGLE3, tmp_JUNGLE4 ,tmp_JUNGLE5])"
   ]
  },
  {
   "cell_type": "code",
   "execution_count": 25,
   "id": "83cd4f48",
   "metadata": {},
   "outputs": [],
   "source": [
    "df_JUNGLE_item = pd.DataFrame(tmp_JUNGLE_item.value_counts().sort_values(ascending=False))"
   ]
  },
  {
   "cell_type": "code",
   "execution_count": 26,
   "id": "6ef4585e",
   "metadata": {},
   "outputs": [],
   "source": [
    "item_tmp_end = pd.read_csv('item_tmp_end.csv')"
   ]
  },
  {
   "cell_type": "code",
   "execution_count": 27,
   "id": "40233032",
   "metadata": {},
   "outputs": [],
   "source": [
    "item_JUNGLE_merge = pd.merge(df_JUNGLE_item,item_tmp_end, on='item0')"
   ]
  },
  {
   "cell_type": "code",
   "execution_count": 28,
   "id": "08cdd149",
   "metadata": {},
   "outputs": [],
   "source": [
    "total_JUNGLE = item_JUNGLE_merge.head(3)"
   ]
  },
  {
   "cell_type": "code",
   "execution_count": 29,
   "id": "a974b9bc",
   "metadata": {},
   "outputs": [],
   "source": [
    "total_JUNGLE = total_JUNGLE[['name', 'count']]"
   ]
  },
  {
   "cell_type": "code",
   "execution_count": 30,
   "id": "d522b786",
   "metadata": {
    "scrolled": true
   },
   "outputs": [
    {
     "data": {
      "text/html": [
       "<div>\n",
       "<style scoped>\n",
       "    .dataframe tbody tr th:only-of-type {\n",
       "        vertical-align: middle;\n",
       "    }\n",
       "\n",
       "    .dataframe tbody tr th {\n",
       "        vertical-align: top;\n",
       "    }\n",
       "\n",
       "    .dataframe thead th {\n",
       "        text-align: right;\n",
       "    }\n",
       "</style>\n",
       "<table border=\"1\" class=\"dataframe\">\n",
       "  <thead>\n",
       "    <tr style=\"text-align: right;\">\n",
       "      <th></th>\n",
       "      <th>name</th>\n",
       "      <th>count</th>\n",
       "    </tr>\n",
       "  </thead>\n",
       "  <tbody>\n",
       "    <tr>\n",
       "      <th>0</th>\n",
       "      <td>칠흑의 양날 도끼</td>\n",
       "      <td>488</td>\n",
       "    </tr>\n",
       "    <tr>\n",
       "      <th>1</th>\n",
       "      <td>선혈포식자</td>\n",
       "      <td>389</td>\n",
       "    </tr>\n",
       "    <tr>\n",
       "      <th>2</th>\n",
       "      <td>요우무의 유령검</td>\n",
       "      <td>300</td>\n",
       "    </tr>\n",
       "  </tbody>\n",
       "</table>\n",
       "</div>"
      ],
      "text/plain": [
       "        name  count\n",
       "0  칠흑의 양날 도끼    488\n",
       "1      선혈포식자    389\n",
       "2   요우무의 유령검    300"
      ]
     },
     "execution_count": 30,
     "metadata": {},
     "output_type": "execute_result"
    }
   ],
   "source": [
    "total_JUNGLE"
   ]
  },
  {
   "cell_type": "code",
   "execution_count": 31,
   "id": "3b6a649b",
   "metadata": {},
   "outputs": [
    {
     "data": {
      "image/png": "[encoded data removed]",
      "text/plain": [
       "<Figure size 800x600 with 1 Axes>"
      ]
     },
     "metadata": {},
     "output_type": "display_data"
    }
   ],
   "source": [
    "plt.figure(figsize=(8, 6))\n",
    "plt.bar(total_JUNGLE['name'], total_JUNGLE['count'], color=('r','g','b'))\n",
    "plt.xlabel('')\n",
    "plt.ylabel('구매량')\n",
    "plt.title('정글라인 아이템 구매율')\n",
    "plt.grid()\n",
    "plt.show()"
   ]
  },
  {
   "cell_type": "code",
   "execution_count": 245,
   "id": "1fe44128",
   "metadata": {},
   "outputs": [],
   "source": [
    "tmp_MIDDLE = tmp[tmp['teamPosition'] == \"MIDDLE\"]"
   ]
  },
  {
   "cell_type": "code",
   "execution_count": 246,
   "id": "27a9236c",
   "metadata": {},
   "outputs": [
    {
     "data": {
      "text/html": [
       "<div>\n",
       "<style scoped>\n",
       "    .dataframe tbody tr th:only-of-type {\n",
       "        vertical-align: middle;\n",
       "    }\n",
       "\n",
       "    .dataframe tbody tr th {\n",
       "        vertical-align: top;\n",
       "    }\n",
       "\n",
       "    .dataframe thead th {\n",
       "        text-align: right;\n",
       "    }\n",
       "</style>\n",
       "<table border=\"1\" class=\"dataframe\">\n",
       "  <thead>\n",
       "    <tr style=\"text-align: right;\">\n",
       "      <th></th>\n",
       "      <th>teamPosition</th>\n",
       "      <th>item0</th>\n",
       "      <th>item1</th>\n",
       "      <th>item2</th>\n",
       "      <th>item3</th>\n",
       "      <th>item4</th>\n",
       "      <th>item5</th>\n",
       "      <th>item6</th>\n",
       "    </tr>\n",
       "  </thead>\n",
       "  <tbody>\n",
       "    <tr>\n",
       "      <th>2</th>\n",
       "      <td>MIDDLE</td>\n",
       "      <td>3074</td>\n",
       "      <td>2031</td>\n",
       "      <td>2055</td>\n",
       "      <td>3158</td>\n",
       "      <td>3134</td>\n",
       "      <td>0</td>\n",
       "      <td>3364</td>\n",
       "    </tr>\n",
       "    <tr>\n",
       "      <th>7</th>\n",
       "      <td>MIDDLE</td>\n",
       "      <td>6672</td>\n",
       "      <td>2031</td>\n",
       "      <td>1038</td>\n",
       "      <td>1018</td>\n",
       "      <td>1054</td>\n",
       "      <td>3006</td>\n",
       "      <td>3363</td>\n",
       "    </tr>\n",
       "    <tr>\n",
       "      <th>12</th>\n",
       "      <td>MIDDLE</td>\n",
       "      <td>1054</td>\n",
       "      <td>6662</td>\n",
       "      <td>3047</td>\n",
       "      <td>3075</td>\n",
       "      <td>0</td>\n",
       "      <td>0</td>\n",
       "      <td>3364</td>\n",
       "    </tr>\n",
       "    <tr>\n",
       "      <th>17</th>\n",
       "      <td>MIDDLE</td>\n",
       "      <td>1055</td>\n",
       "      <td>1036</td>\n",
       "      <td>2055</td>\n",
       "      <td>6672</td>\n",
       "      <td>3006</td>\n",
       "      <td>1036</td>\n",
       "      <td>3340</td>\n",
       "    </tr>\n",
       "    <tr>\n",
       "      <th>22</th>\n",
       "      <td>MIDDLE</td>\n",
       "      <td>0</td>\n",
       "      <td>3193</td>\n",
       "      <td>3047</td>\n",
       "      <td>3075</td>\n",
       "      <td>6662</td>\n",
       "      <td>3067</td>\n",
       "      <td>3364</td>\n",
       "    </tr>\n",
       "    <tr>\n",
       "      <th>...</th>\n",
       "      <td>...</td>\n",
       "      <td>...</td>\n",
       "      <td>...</td>\n",
       "      <td>...</td>\n",
       "      <td>...</td>\n",
       "      <td>...</td>\n",
       "      <td>...</td>\n",
       "      <td>...</td>\n",
       "    </tr>\n",
       "    <tr>\n",
       "      <th>11287</th>\n",
       "      <td>MIDDLE</td>\n",
       "      <td>3181</td>\n",
       "      <td>3111</td>\n",
       "      <td>6631</td>\n",
       "      <td>3074</td>\n",
       "      <td>1036</td>\n",
       "      <td>1036</td>\n",
       "      <td>3340</td>\n",
       "    </tr>\n",
       "    <tr>\n",
       "      <th>11292</th>\n",
       "      <td>MIDDLE</td>\n",
       "      <td>1011</td>\n",
       "      <td>3143</td>\n",
       "      <td>3047</td>\n",
       "      <td>3068</td>\n",
       "      <td>3076</td>\n",
       "      <td>3084</td>\n",
       "      <td>3364</td>\n",
       "    </tr>\n",
       "    <tr>\n",
       "      <th>11297</th>\n",
       "      <td>MIDDLE</td>\n",
       "      <td>6630</td>\n",
       "      <td>3071</td>\n",
       "      <td>6333</td>\n",
       "      <td>3047</td>\n",
       "      <td>1036</td>\n",
       "      <td>1055</td>\n",
       "      <td>3364</td>\n",
       "    </tr>\n",
       "    <tr>\n",
       "      <th>11302</th>\n",
       "      <td>MIDDLE</td>\n",
       "      <td>3089</td>\n",
       "      <td>0</td>\n",
       "      <td>4644</td>\n",
       "      <td>3158</td>\n",
       "      <td>1082</td>\n",
       "      <td>4645</td>\n",
       "      <td>3340</td>\n",
       "    </tr>\n",
       "    <tr>\n",
       "      <th>11307</th>\n",
       "      <td>MIDDLE</td>\n",
       "      <td>1054</td>\n",
       "      <td>2420</td>\n",
       "      <td>6631</td>\n",
       "      <td>3047</td>\n",
       "      <td>3181</td>\n",
       "      <td>3071</td>\n",
       "      <td>3364</td>\n",
       "    </tr>\n",
       "  </tbody>\n",
       "</table>\n",
       "<p>2115 rows × 8 columns</p>\n",
       "</div>"
      ],
      "text/plain": [
       "      teamPosition  item0  item1  item2  item3  item4  item5  item6\n",
       "2           MIDDLE   3074   2031   2055   3158   3134      0   3364\n",
       "7           MIDDLE   6672   2031   1038   1018   1054   3006   3363\n",
       "12          MIDDLE   1054   6662   3047   3075      0      0   3364\n",
       "17          MIDDLE   1055   1036   2055   6672   3006   1036   3340\n",
       "22          MIDDLE      0   3193   3047   3075   6662   3067   3364\n",
       "...            ...    ...    ...    ...    ...    ...    ...    ...\n",
       "11287       MIDDLE   3181   3111   6631   3074   1036   1036   3340\n",
       "11292       MIDDLE   1011   3143   3047   3068   3076   3084   3364\n",
       "11297       MIDDLE   6630   3071   6333   3047   1036   1055   3364\n",
       "11302       MIDDLE   3089      0   4644   3158   1082   4645   3340\n",
       "11307       MIDDLE   1054   2420   6631   3047   3181   3071   3364\n",
       "\n",
       "[2115 rows x 8 columns]"
      ]
     },
     "execution_count": 246,
     "metadata": {},
     "output_type": "execute_result"
    }
   ],
   "source": [
    "tmp_MIDDLE"
   ]
  },
  {
   "cell_type": "code",
   "execution_count": 247,
   "id": "0fb7195f",
   "metadata": {},
   "outputs": [],
   "source": [
    "tmp_MIDDLE0 = tmp_MIDDLE[['item0']]"
   ]
  },
  {
   "cell_type": "code",
   "execution_count": 248,
   "id": "08fb9605",
   "metadata": {},
   "outputs": [],
   "source": [
    "tmp_MIDDLE1 = tmp_MIDDLE[['item1']].rename(columns={'item1': 'item0'})"
   ]
  },
  {
   "cell_type": "code",
   "execution_count": 249,
   "id": "9ccb40f9",
   "metadata": {},
   "outputs": [],
   "source": [
    "tmp_MIDDLE2 = tmp_MIDDLE[['item2']].rename(columns={'item2': 'item0'})"
   ]
  },
  {
   "cell_type": "code",
   "execution_count": 250,
   "id": "178cf1e7",
   "metadata": {},
   "outputs": [],
   "source": [
    "tmp_MIDDLE3 = tmp_MIDDLE[['item3']].rename(columns={'item3': 'item0'})"
   ]
  },
  {
   "cell_type": "code",
   "execution_count": 251,
   "id": "8bf0321b",
   "metadata": {},
   "outputs": [],
   "source": [
    "tmp_MIDDLE4 = tmp_MIDDLE[['item4']].rename(columns={'item4': 'item0'})"
   ]
  },
  {
   "cell_type": "code",
   "execution_count": 252,
   "id": "9eeee72c",
   "metadata": {},
   "outputs": [],
   "source": [
    "tmp_MIDDLE5 = tmp_MIDDLE[['item5']].rename(columns={'item5': 'item0'})"
   ]
  },
  {
   "cell_type": "code",
   "execution_count": 261,
   "id": "785b9b51",
   "metadata": {},
   "outputs": [],
   "source": [
    "tmp_MIDDLE_item = pd.concat([tmp_MIDDLE0, tmp_MIDDLE1, tmp_MIDDLE2, tmp_MIDDLE3, tmp_MIDDLE4 ,tmp_MIDDLE5])"
   ]
  },
  {
   "cell_type": "code",
   "execution_count": 262,
   "id": "a88766f0",
   "metadata": {},
   "outputs": [],
   "source": [
    "df_MIDDLE_item = pd.DataFrame(tmp_MIDDLE_item.value_counts().sort_values(ascending=False))"
   ]
  },
  {
   "cell_type": "code",
   "execution_count": 263,
   "id": "59558bf6",
   "metadata": {},
   "outputs": [],
   "source": [
    "item_tmp_end = pd.read_csv('item_tmp_end.csv')"
   ]
  },
  {
   "cell_type": "code",
   "execution_count": 264,
   "id": "57ab9b68",
   "metadata": {},
   "outputs": [],
   "source": [
    "item_MIDDLE_merge = pd.merge(df_MIDDLE_item,item_tmp_end, on='item0')"
   ]
  },
  {
   "cell_type": "code",
   "execution_count": 265,
   "id": "f38c359d",
   "metadata": {},
   "outputs": [],
   "source": [
    "total_MIDDLE = item_MIDDLE_merge.head(3)"
   ]
  },
  {
   "cell_type": "code",
   "execution_count": 266,
   "id": "3ecd9343",
   "metadata": {},
   "outputs": [],
   "source": [
    "total_MIDDLE = total_MIDDLE[['name', 'count']]"
   ]
  },
  {
   "cell_type": "code",
   "execution_count": 267,
   "id": "0a26a97a",
   "metadata": {
    "scrolled": true
   },
   "outputs": [
    {
     "data": {
      "text/html": [
       "<div>\n",
       "<style scoped>\n",
       "    .dataframe tbody tr th:only-of-type {\n",
       "        vertical-align: middle;\n",
       "    }\n",
       "\n",
       "    .dataframe tbody tr th {\n",
       "        vertical-align: top;\n",
       "    }\n",
       "\n",
       "    .dataframe thead th {\n",
       "        text-align: right;\n",
       "    }\n",
       "</style>\n",
       "<table border=\"1\" class=\"dataframe\">\n",
       "  <thead>\n",
       "    <tr style=\"text-align: right;\">\n",
       "      <th></th>\n",
       "      <th>name</th>\n",
       "      <th>count</th>\n",
       "    </tr>\n",
       "  </thead>\n",
       "  <tbody>\n",
       "    <tr>\n",
       "      <th>0</th>\n",
       "      <td>그림자불꽃</td>\n",
       "      <td>535</td>\n",
       "    </tr>\n",
       "    <tr>\n",
       "      <th>1</th>\n",
       "      <td>존야의 모래시계</td>\n",
       "      <td>437</td>\n",
       "    </tr>\n",
       "    <tr>\n",
       "      <th>2</th>\n",
       "      <td>루덴의 폭풍</td>\n",
       "      <td>386</td>\n",
       "    </tr>\n",
       "  </tbody>\n",
       "</table>\n",
       "</div>"
      ],
      "text/plain": [
       "       name  count\n",
       "0     그림자불꽃    535\n",
       "1  존야의 모래시계    437\n",
       "2    루덴의 폭풍    386"
      ]
     },
     "execution_count": 267,
     "metadata": {},
     "output_type": "execute_result"
    }
   ],
   "source": [
    "total_MIDDLE"
   ]
  },
  {
   "cell_type": "code",
   "execution_count": 269,
   "id": "26543fed",
   "metadata": {},
   "outputs": [
    {
     "data": {
      "image/png": "[encoded data removed]",
      "text/plain": [
       "<Figure size 800x600 with 1 Axes>"
      ]
     },
     "metadata": {},
     "output_type": "display_data"
    }
   ],
   "source": [
    "plt.figure(figsize=(8, 6))\n",
    "plt.bar(total_MIDDLE['name'], total_MIDDLE['count'], color=('r','g','b'))\n",
    "plt.xlabel('')\n",
    "plt.ylabel('구매량')\n",
    "plt.title('미드라인 아이템 구매율')\n",
    "plt.grid()\n",
    "plt.show()"
   ]
  },
  {
   "cell_type": "code",
   "execution_count": 270,
   "id": "7abcb1ad",
   "metadata": {},
   "outputs": [],
   "source": [
    "tmp_BOTTOM = tmp[tmp['teamPosition'] == \"BOTTOM\"]"
   ]
  },
  {
   "cell_type": "code",
   "execution_count": 271,
   "id": "b3f3758b",
   "metadata": {},
   "outputs": [
    {
     "data": {
      "text/html": [
       "<div>\n",
       "<style scoped>\n",
       "    .dataframe tbody tr th:only-of-type {\n",
       "        vertical-align: middle;\n",
       "    }\n",
       "\n",
       "    .dataframe tbody tr th {\n",
       "        vertical-align: top;\n",
       "    }\n",
       "\n",
       "    .dataframe thead th {\n",
       "        text-align: right;\n",
       "    }\n",
       "</style>\n",
       "<table border=\"1\" class=\"dataframe\">\n",
       "  <thead>\n",
       "    <tr style=\"text-align: right;\">\n",
       "      <th></th>\n",
       "      <th>teamPosition</th>\n",
       "      <th>item0</th>\n",
       "      <th>item1</th>\n",
       "      <th>item2</th>\n",
       "      <th>item3</th>\n",
       "      <th>item4</th>\n",
       "      <th>item5</th>\n",
       "      <th>item6</th>\n",
       "    </tr>\n",
       "  </thead>\n",
       "  <tbody>\n",
       "    <tr>\n",
       "      <th>3</th>\n",
       "      <td>BOTTOM</td>\n",
       "      <td>3158</td>\n",
       "      <td>3078</td>\n",
       "      <td>1055</td>\n",
       "      <td>3070</td>\n",
       "      <td>3133</td>\n",
       "      <td>1036</td>\n",
       "      <td>3363</td>\n",
       "    </tr>\n",
       "    <tr>\n",
       "      <th>8</th>\n",
       "      <td>BOTTOM</td>\n",
       "      <td>2031</td>\n",
       "      <td>0</td>\n",
       "      <td>6672</td>\n",
       "      <td>1055</td>\n",
       "      <td>3133</td>\n",
       "      <td>3006</td>\n",
       "      <td>3363</td>\n",
       "    </tr>\n",
       "    <tr>\n",
       "      <th>13</th>\n",
       "      <td>BOTTOM</td>\n",
       "      <td>3020</td>\n",
       "      <td>3100</td>\n",
       "      <td>3115</td>\n",
       "      <td>1052</td>\n",
       "      <td>0</td>\n",
       "      <td>0</td>\n",
       "      <td>3363</td>\n",
       "    </tr>\n",
       "    <tr>\n",
       "      <th>18</th>\n",
       "      <td>BOTTOM</td>\n",
       "      <td>1055</td>\n",
       "      <td>3070</td>\n",
       "      <td>3078</td>\n",
       "      <td>3133</td>\n",
       "      <td>0</td>\n",
       "      <td>2422</td>\n",
       "      <td>3340</td>\n",
       "    </tr>\n",
       "    <tr>\n",
       "      <th>23</th>\n",
       "      <td>BOTTOM</td>\n",
       "      <td>6675</td>\n",
       "      <td>3046</td>\n",
       "      <td>3072</td>\n",
       "      <td>2420</td>\n",
       "      <td>1031</td>\n",
       "      <td>3006</td>\n",
       "      <td>3363</td>\n",
       "    </tr>\n",
       "    <tr>\n",
       "      <th>...</th>\n",
       "      <td>...</td>\n",
       "      <td>...</td>\n",
       "      <td>...</td>\n",
       "      <td>...</td>\n",
       "      <td>...</td>\n",
       "      <td>...</td>\n",
       "      <td>...</td>\n",
       "      <td>...</td>\n",
       "    </tr>\n",
       "    <tr>\n",
       "      <th>11288</th>\n",
       "      <td>BOTTOM</td>\n",
       "      <td>2420</td>\n",
       "      <td>3191</td>\n",
       "      <td>3115</td>\n",
       "      <td>3124</td>\n",
       "      <td>3095</td>\n",
       "      <td>3006</td>\n",
       "      <td>3363</td>\n",
       "    </tr>\n",
       "    <tr>\n",
       "      <th>11293</th>\n",
       "      <td>BOTTOM</td>\n",
       "      <td>0</td>\n",
       "      <td>6675</td>\n",
       "      <td>6672</td>\n",
       "      <td>1055</td>\n",
       "      <td>3036</td>\n",
       "      <td>3006</td>\n",
       "      <td>3363</td>\n",
       "    </tr>\n",
       "    <tr>\n",
       "      <th>11298</th>\n",
       "      <td>BOTTOM</td>\n",
       "      <td>1055</td>\n",
       "      <td>1037</td>\n",
       "      <td>1042</td>\n",
       "      <td>3153</td>\n",
       "      <td>6672</td>\n",
       "      <td>3006</td>\n",
       "      <td>3340</td>\n",
       "    </tr>\n",
       "    <tr>\n",
       "      <th>11303</th>\n",
       "      <td>BOTTOM</td>\n",
       "      <td>3181</td>\n",
       "      <td>3047</td>\n",
       "      <td>3078</td>\n",
       "      <td>3076</td>\n",
       "      <td>3074</td>\n",
       "      <td>1028</td>\n",
       "      <td>3340</td>\n",
       "    </tr>\n",
       "    <tr>\n",
       "      <th>11308</th>\n",
       "      <td>BOTTOM</td>\n",
       "      <td>1055</td>\n",
       "      <td>3124</td>\n",
       "      <td>2421</td>\n",
       "      <td>3006</td>\n",
       "      <td>3091</td>\n",
       "      <td>3153</td>\n",
       "      <td>3363</td>\n",
       "    </tr>\n",
       "  </tbody>\n",
       "</table>\n",
       "<p>2116 rows × 8 columns</p>\n",
       "</div>"
      ],
      "text/plain": [
       "      teamPosition  item0  item1  item2  item3  item4  item5  item6\n",
       "3           BOTTOM   3158   3078   1055   3070   3133   1036   3363\n",
       "8           BOTTOM   2031      0   6672   1055   3133   3006   3363\n",
       "13          BOTTOM   3020   3100   3115   1052      0      0   3363\n",
       "18          BOTTOM   1055   3070   3078   3133      0   2422   3340\n",
       "23          BOTTOM   6675   3046   3072   2420   1031   3006   3363\n",
       "...            ...    ...    ...    ...    ...    ...    ...    ...\n",
       "11288       BOTTOM   2420   3191   3115   3124   3095   3006   3363\n",
       "11293       BOTTOM      0   6675   6672   1055   3036   3006   3363\n",
       "11298       BOTTOM   1055   1037   1042   3153   6672   3006   3340\n",
       "11303       BOTTOM   3181   3047   3078   3076   3074   1028   3340\n",
       "11308       BOTTOM   1055   3124   2421   3006   3091   3153   3363\n",
       "\n",
       "[2116 rows x 8 columns]"
      ]
     },
     "execution_count": 271,
     "metadata": {},
     "output_type": "execute_result"
    }
   ],
   "source": [
    "tmp_BOTTOM"
   ]
  },
  {
   "cell_type": "code",
   "execution_count": 272,
   "id": "75ce38ff",
   "metadata": {},
   "outputs": [],
   "source": [
    "tmp_BOTTOM0 = tmp_BOTTOM[['item0']]"
   ]
  },
  {
   "cell_type": "code",
   "execution_count": 273,
   "id": "d4f36f4d",
   "metadata": {},
   "outputs": [],
   "source": [
    "tmp_BOTTOM1 = tmp_BOTTOM[['item1']].rename(columns={'item1': 'item0'})"
   ]
  },
  {
   "cell_type": "code",
   "execution_count": 274,
   "id": "361caf36",
   "metadata": {},
   "outputs": [],
   "source": [
    "tmp_BOTTOM2 = tmp_BOTTOM[['item2']].rename(columns={'item2': 'item0'})"
   ]
  },
  {
   "cell_type": "code",
   "execution_count": 275,
   "id": "fe5ee2d4",
   "metadata": {},
   "outputs": [],
   "source": [
    "tmp_BOTTOM3 = tmp_BOTTOM[['item3']].rename(columns={'item3': 'item0'})"
   ]
  },
  {
   "cell_type": "code",
   "execution_count": 276,
   "id": "cdcf7720",
   "metadata": {},
   "outputs": [],
   "source": [
    "tmp_BOTTOM4 = tmp_BOTTOM[['item4']].rename(columns={'item4': 'item0'})"
   ]
  },
  {
   "cell_type": "code",
   "execution_count": 277,
   "id": "2714a1ca",
   "metadata": {},
   "outputs": [],
   "source": [
    "tmp_BOTTOM5 = tmp_BOTTOM[['item5']].rename(columns={'item5': 'item0'})"
   ]
  },
  {
   "cell_type": "code",
   "execution_count": 278,
   "id": "90daf3b8",
   "metadata": {},
   "outputs": [],
   "source": [
    "tmp_BOTTOM_item = pd.concat([tmp_BOTTOM0, tmp_BOTTOM1, tmp_BOTTOM2, tmp_BOTTOM3, tmp_BOTTOM4 ,tmp_BOTTOM5])"
   ]
  },
  {
   "cell_type": "code",
   "execution_count": 279,
   "id": "06f001f1",
   "metadata": {},
   "outputs": [],
   "source": [
    "df_BOTTOM_item = pd.DataFrame(tmp_BOTTOM_item.value_counts().sort_values(ascending=False))"
   ]
  },
  {
   "cell_type": "code",
   "execution_count": 280,
   "id": "521b8a31",
   "metadata": {},
   "outputs": [],
   "source": [
    "item_tmp_end = pd.read_csv('item_tmp_end.csv')"
   ]
  },
  {
   "cell_type": "code",
   "execution_count": 281,
   "id": "411384eb",
   "metadata": {},
   "outputs": [],
   "source": [
    "item_BOTTOM_merge = pd.merge(df_BOTTOM_item,item_tmp_end, on='item0')"
   ]
  },
  {
   "cell_type": "code",
   "execution_count": 282,
   "id": "c78a7444",
   "metadata": {},
   "outputs": [],
   "source": [
    "total_BOTTOM = item_BOTTOM_merge.head(3)"
   ]
  },
  {
   "cell_type": "code",
   "execution_count": 283,
   "id": "c1ad0c06",
   "metadata": {},
   "outputs": [],
   "source": [
    "total_BOTTOM = total_BOTTOM[['name', 'count']]"
   ]
  },
  {
   "cell_type": "code",
   "execution_count": 284,
   "id": "4940600c",
   "metadata": {
    "scrolled": true
   },
   "outputs": [
    {
     "data": {
      "text/html": [
       "<div>\n",
       "<style scoped>\n",
       "    .dataframe tbody tr th:only-of-type {\n",
       "        vertical-align: middle;\n",
       "    }\n",
       "\n",
       "    .dataframe tbody tr th {\n",
       "        vertical-align: top;\n",
       "    }\n",
       "\n",
       "    .dataframe thead th {\n",
       "        text-align: right;\n",
       "    }\n",
       "</style>\n",
       "<table border=\"1\" class=\"dataframe\">\n",
       "  <thead>\n",
       "    <tr style=\"text-align: right;\">\n",
       "      <th></th>\n",
       "      <th>name</th>\n",
       "      <th>count</th>\n",
       "    </tr>\n",
       "  </thead>\n",
       "  <tbody>\n",
       "    <tr>\n",
       "      <th>0</th>\n",
       "      <td>크라켄 학살자</td>\n",
       "      <td>573</td>\n",
       "    </tr>\n",
       "    <tr>\n",
       "      <th>1</th>\n",
       "      <td>폭풍갈퀴</td>\n",
       "      <td>487</td>\n",
       "    </tr>\n",
       "    <tr>\n",
       "      <th>2</th>\n",
       "      <td>나보리 신속검</td>\n",
       "      <td>429</td>\n",
       "    </tr>\n",
       "  </tbody>\n",
       "</table>\n",
       "</div>"
      ],
      "text/plain": [
       "      name  count\n",
       "0  크라켄 학살자    573\n",
       "1     폭풍갈퀴    487\n",
       "2  나보리 신속검    429"
      ]
     },
     "execution_count": 284,
     "metadata": {},
     "output_type": "execute_result"
    }
   ],
   "source": [
    "total_BOTTOM"
   ]
  },
  {
   "cell_type": "code",
   "execution_count": 285,
   "id": "9db011d7",
   "metadata": {},
   "outputs": [
    {
     "data": {
      "image/png": "[encoded data removed]",
      "text/plain": [
       "<Figure size 800x600 with 1 Axes>"
      ]
     },
     "metadata": {},
     "output_type": "display_data"
    }
   ],
   "source": [
    "plt.figure(figsize=(8, 6))\n",
    "plt.bar(total_BOTTOM['name'], total_BOTTOM['count'], color=('r','g','b'))\n",
    "plt.xlabel('')\n",
    "plt.ylabel('구매량')\n",
    "plt.title('바텀라인 아이템 구매율')\n",
    "plt.grid()\n",
    "plt.show()"
   ]
  },
  {
   "cell_type": "code",
   "execution_count": 286,
   "id": "faf515ad",
   "metadata": {},
   "outputs": [],
   "source": [
    "tmp_UTILITY = tmp[tmp['teamPosition'] == \"UTILITY\"]"
   ]
  },
  {
   "cell_type": "code",
   "execution_count": 287,
   "id": "f59f3c1e",
   "metadata": {},
   "outputs": [
    {
     "data": {
      "text/html": [
       "<div>\n",
       "<style scoped>\n",
       "    .dataframe tbody tr th:only-of-type {\n",
       "        vertical-align: middle;\n",
       "    }\n",
       "\n",
       "    .dataframe tbody tr th {\n",
       "        vertical-align: top;\n",
       "    }\n",
       "\n",
       "    .dataframe thead th {\n",
       "        text-align: right;\n",
       "    }\n",
       "</style>\n",
       "<table border=\"1\" class=\"dataframe\">\n",
       "  <thead>\n",
       "    <tr style=\"text-align: right;\">\n",
       "      <th></th>\n",
       "      <th>teamPosition</th>\n",
       "      <th>item0</th>\n",
       "      <th>item1</th>\n",
       "      <th>item2</th>\n",
       "      <th>item3</th>\n",
       "      <th>item4</th>\n",
       "      <th>item5</th>\n",
       "      <th>item6</th>\n",
       "    </tr>\n",
       "  </thead>\n",
       "  <tbody>\n",
       "    <tr>\n",
       "      <th>4</th>\n",
       "      <td>UTILITY</td>\n",
       "      <td>4642</td>\n",
       "      <td>3859</td>\n",
       "      <td>2031</td>\n",
       "      <td>0</td>\n",
       "      <td>3158</td>\n",
       "      <td>3067</td>\n",
       "      <td>3364</td>\n",
       "    </tr>\n",
       "    <tr>\n",
       "      <th>9</th>\n",
       "      <td>UTILITY</td>\n",
       "      <td>3047</td>\n",
       "      <td>3859</td>\n",
       "      <td>2055</td>\n",
       "      <td>1011</td>\n",
       "      <td>3105</td>\n",
       "      <td>0</td>\n",
       "      <td>3364</td>\n",
       "    </tr>\n",
       "    <tr>\n",
       "      <th>14</th>\n",
       "      <td>UTILITY</td>\n",
       "      <td>2031</td>\n",
       "      <td>3855</td>\n",
       "      <td>2055</td>\n",
       "      <td>3179</td>\n",
       "      <td>3158</td>\n",
       "      <td>3134</td>\n",
       "      <td>3364</td>\n",
       "    </tr>\n",
       "    <tr>\n",
       "      <th>19</th>\n",
       "      <td>UTILITY</td>\n",
       "      <td>2031</td>\n",
       "      <td>2055</td>\n",
       "      <td>3859</td>\n",
       "      <td>3023</td>\n",
       "      <td>3047</td>\n",
       "      <td>0</td>\n",
       "      <td>3364</td>\n",
       "    </tr>\n",
       "    <tr>\n",
       "      <th>24</th>\n",
       "      <td>UTILITY</td>\n",
       "      <td>6691</td>\n",
       "      <td>3857</td>\n",
       "      <td>0</td>\n",
       "      <td>3179</td>\n",
       "      <td>3158</td>\n",
       "      <td>3814</td>\n",
       "      <td>3364</td>\n",
       "    </tr>\n",
       "    <tr>\n",
       "      <th>...</th>\n",
       "      <td>...</td>\n",
       "      <td>...</td>\n",
       "      <td>...</td>\n",
       "      <td>...</td>\n",
       "      <td>...</td>\n",
       "      <td>...</td>\n",
       "      <td>...</td>\n",
       "      <td>...</td>\n",
       "    </tr>\n",
       "    <tr>\n",
       "      <th>11289</th>\n",
       "      <td>UTILITY</td>\n",
       "      <td>2055</td>\n",
       "      <td>3860</td>\n",
       "      <td>6667</td>\n",
       "      <td>3158</td>\n",
       "      <td>3023</td>\n",
       "      <td>3076</td>\n",
       "      <td>3364</td>\n",
       "    </tr>\n",
       "    <tr>\n",
       "      <th>11294</th>\n",
       "      <td>UTILITY</td>\n",
       "      <td>3860</td>\n",
       "      <td>2055</td>\n",
       "      <td>3076</td>\n",
       "      <td>6667</td>\n",
       "      <td>1011</td>\n",
       "      <td>3117</td>\n",
       "      <td>3364</td>\n",
       "    </tr>\n",
       "    <tr>\n",
       "      <th>11299</th>\n",
       "      <td>UTILITY</td>\n",
       "      <td>3158</td>\n",
       "      <td>3179</td>\n",
       "      <td>3134</td>\n",
       "      <td>3857</td>\n",
       "      <td>2055</td>\n",
       "      <td>6691</td>\n",
       "      <td>3363</td>\n",
       "    </tr>\n",
       "    <tr>\n",
       "      <th>11304</th>\n",
       "      <td>UTILITY</td>\n",
       "      <td>4636</td>\n",
       "      <td>3853</td>\n",
       "      <td>3041</td>\n",
       "      <td>3117</td>\n",
       "      <td>4630</td>\n",
       "      <td>1026</td>\n",
       "      <td>3363</td>\n",
       "    </tr>\n",
       "    <tr>\n",
       "      <th>11309</th>\n",
       "      <td>UTILITY</td>\n",
       "      <td>1028</td>\n",
       "      <td>6609</td>\n",
       "      <td>3864</td>\n",
       "      <td>0</td>\n",
       "      <td>3179</td>\n",
       "      <td>3009</td>\n",
       "      <td>3364</td>\n",
       "    </tr>\n",
       "  </tbody>\n",
       "</table>\n",
       "<p>2116 rows × 8 columns</p>\n",
       "</div>"
      ],
      "text/plain": [
       "      teamPosition  item0  item1  item2  item3  item4  item5  item6\n",
       "4          UTILITY   4642   3859   2031      0   3158   3067   3364\n",
       "9          UTILITY   3047   3859   2055   1011   3105      0   3364\n",
       "14         UTILITY   2031   3855   2055   3179   3158   3134   3364\n",
       "19         UTILITY   2031   2055   3859   3023   3047      0   3364\n",
       "24         UTILITY   6691   3857      0   3179   3158   3814   3364\n",
       "...            ...    ...    ...    ...    ...    ...    ...    ...\n",
       "11289      UTILITY   2055   3860   6667   3158   3023   3076   3364\n",
       "11294      UTILITY   3860   2055   3076   6667   1011   3117   3364\n",
       "11299      UTILITY   3158   3179   3134   3857   2055   6691   3363\n",
       "11304      UTILITY   4636   3853   3041   3117   4630   1026   3363\n",
       "11309      UTILITY   1028   6609   3864      0   3179   3009   3364\n",
       "\n",
       "[2116 rows x 8 columns]"
      ]
     },
     "execution_count": 287,
     "metadata": {},
     "output_type": "execute_result"
    }
   ],
   "source": [
    "tmp_UTILITY"
   ]
  },
  {
   "cell_type": "code",
   "execution_count": 288,
   "id": "6fa857e6",
   "metadata": {},
   "outputs": [],
   "source": [
    "tmp_UTILITY0 = tmp_UTILITY[['item0']]"
   ]
  },
  {
   "cell_type": "code",
   "execution_count": 289,
   "id": "3a38adb9",
   "metadata": {},
   "outputs": [],
   "source": [
    "tmp_UTILITY1 = tmp_UTILITY[['item1']].rename(columns={'item1': 'item0'})"
   ]
  },
  {
   "cell_type": "code",
   "execution_count": 290,
   "id": "e0024e0c",
   "metadata": {},
   "outputs": [],
   "source": [
    "tmp_UTILITY2 = tmp_UTILITY[['item2']].rename(columns={'item2': 'item0'})"
   ]
  },
  {
   "cell_type": "code",
   "execution_count": 291,
   "id": "678d5e84",
   "metadata": {},
   "outputs": [],
   "source": [
    "tmp_UTILITY3 = tmp_UTILITY[['item3']].rename(columns={'item3': 'item0'})"
   ]
  },
  {
   "cell_type": "code",
   "execution_count": 292,
   "id": "fcd31bdf",
   "metadata": {},
   "outputs": [],
   "source": [
    "tmp_UTILITY4 = tmp_UTILITY[['item4']].rename(columns={'item4': 'item0'})"
   ]
  },
  {
   "cell_type": "code",
   "execution_count": 293,
   "id": "0d1de957",
   "metadata": {},
   "outputs": [],
   "source": [
    "tmp_UTILITY5 = tmp_UTILITY[['item5']].rename(columns={'item5': 'item0'})"
   ]
  },
  {
   "cell_type": "code",
   "execution_count": 294,
   "id": "f05f648d",
   "metadata": {},
   "outputs": [],
   "source": [
    "tmp_UTILITY_item = pd.concat([tmp_UTILITY0, tmp_UTILITY1, tmp_UTILITY2, tmp_UTILITY3, tmp_UTILITY4 ,tmp_UTILITY5])"
   ]
  },
  {
   "cell_type": "code",
   "execution_count": 295,
   "id": "a13cde39",
   "metadata": {},
   "outputs": [],
   "source": [
    "df_UTILITY_item = pd.DataFrame(tmp_UTILITY_item.value_counts().sort_values(ascending=False))"
   ]
  },
  {
   "cell_type": "code",
   "execution_count": 296,
   "id": "2b40cf00",
   "metadata": {},
   "outputs": [],
   "source": [
    "item_tmp_end = pd.read_csv('item_tmp_end.csv')"
   ]
  },
  {
   "cell_type": "code",
   "execution_count": 297,
   "id": "e0e61ea9",
   "metadata": {},
   "outputs": [],
   "source": [
    "item_UTILITY_merge = pd.merge(df_UTILITY_item,item_tmp_end, on='item0')"
   ]
  },
  {
   "cell_type": "code",
   "execution_count": 298,
   "id": "6983b554",
   "metadata": {},
   "outputs": [],
   "source": [
    "total_UTILITY = item_UTILITY_merge.head(3)"
   ]
  },
  {
   "cell_type": "code",
   "execution_count": 299,
   "id": "5a38fe87",
   "metadata": {},
   "outputs": [],
   "source": [
    "total_UTILITY = total_UTILITY[['name', 'count']]"
   ]
  },
  {
   "cell_type": "code",
   "execution_count": 300,
   "id": "197e88d4",
   "metadata": {
    "scrolled": true
   },
   "outputs": [
    {
     "data": {
      "text/html": [
       "<div>\n",
       "<style scoped>\n",
       "    .dataframe tbody tr th:only-of-type {\n",
       "        vertical-align: middle;\n",
       "    }\n",
       "\n",
       "    .dataframe tbody tr th {\n",
       "        vertical-align: top;\n",
       "    }\n",
       "\n",
       "    .dataframe thead th {\n",
       "        text-align: right;\n",
       "    }\n",
       "</style>\n",
       "<table border=\"1\" class=\"dataframe\">\n",
       "  <thead>\n",
       "    <tr style=\"text-align: right;\">\n",
       "      <th></th>\n",
       "      <th>name</th>\n",
       "      <th>count</th>\n",
       "    </tr>\n",
       "  </thead>\n",
       "  <tbody>\n",
       "    <tr>\n",
       "      <th>0</th>\n",
       "      <td>슈렐리아의 군가</td>\n",
       "      <td>470</td>\n",
       "    </tr>\n",
       "    <tr>\n",
       "      <th>1</th>\n",
       "      <td>광휘의 미덕</td>\n",
       "      <td>402</td>\n",
       "    </tr>\n",
       "    <tr>\n",
       "      <th>2</th>\n",
       "      <td>그림자 검</td>\n",
       "      <td>239</td>\n",
       "    </tr>\n",
       "  </tbody>\n",
       "</table>\n",
       "</div>"
      ],
      "text/plain": [
       "       name  count\n",
       "0  슈렐리아의 군가    470\n",
       "1    광휘의 미덕    402\n",
       "2     그림자 검    239"
      ]
     },
     "execution_count": 300,
     "metadata": {},
     "output_type": "execute_result"
    }
   ],
   "source": [
    "total_UTILITY"
   ]
  },
  {
   "cell_type": "code",
   "execution_count": 301,
   "id": "769f172a",
   "metadata": {},
   "outputs": [
    {
     "data": {
      "image/png": "[encoded data removed]",
      "text/plain": [
       "<Figure size 800x600 with 1 Axes>"
      ]
     },
     "metadata": {},
     "output_type": "display_data"
    }
   ],
   "source": [
    "plt.figure(figsize=(8, 6))\n",
    "plt.bar(total_UTILITY['name'], total_UTILITY['count'], color=('r','g','b'))\n",
    "plt.xlabel('')\n",
    "plt.ylabel('구매량')\n",
    "plt.title('서폿라인 아이템 구매율')\n",
    "plt.grid()\n",
    "plt.show()"
   ]
  },
  {
   "cell_type": "code",
   "execution_count": null,
   "id": "7c8355fb",
   "metadata": {},
   "outputs": [],
   "source": []
  }
 ],
 "metadata": {
  "kernelspec": {
   "display_name": "Python 3 (ipykernel)",
   "language": "python",
   "name": "python3"
  },
  "language_info": {
   "codemirror_mode": {
    "name": "ipython",
    "version": 3
   },
   "file_extension": ".py",
   "mimetype": "text/x-python",
   "name": "python",
   "nbconvert_exporter": "python",
   "pygments_lexer": "ipython3",
   "version": "3.11.5"
  }
 },
 "nbformat": 4,
 "nbformat_minor": 5
}
